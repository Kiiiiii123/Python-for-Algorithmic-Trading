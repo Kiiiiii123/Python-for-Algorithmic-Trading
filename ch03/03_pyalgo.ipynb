{
 "cells": [
  {
   "cell_type": "markdown",
   "metadata": {},
   "source": [
    "**Chapter 03 &mdash; Working with Financial Data**"
   ]
  },
  {
   "cell_type": "markdown",
   "metadata": {},
   "source": [
    "## Sample Data Set from Eikon"
   ]
  },
  {
   "cell_type": "markdown",
   "metadata": {},
   "source": [
    "## Reading Financial Data From Different Sources"
   ]
  },
  {
   "cell_type": "markdown",
   "metadata": {},
   "source": [
    "### The Data Set"
   ]
  },
  {
   "cell_type": "code",
   "execution_count": 1,
   "metadata": {},
   "outputs": [],
   "source": [
    "fn = '../data/AAPL.csv'"
   ]
  },
  {
   "cell_type": "code",
   "execution_count": 2,
   "metadata": {},
   "outputs": [
    {
     "name": "stdout",
     "output_type": "stream",
     "text": [
      "Date,HIGH,CLOSE,LOW,OPEN,COUNT,VOLUME\n",
      "2020-04-01,248.72,240.91,239.13,246.5,460606.0,44054638.0\n",
      "2020-04-02,245.15,244.93,236.9,240.34,380294.0,41483493.0\n",
      "2020-04-03,245.7,241.41,238.9741,242.8,293699.0,32470017.0\n",
      "2020-04-06,263.11,262.47,249.38,250.9,486681.0,50455071.0\n"
     ]
    }
   ],
   "source": [
    "with open(fn, 'r') as f:\n",
    "    for _ in range(5):\n",
    "        print(f.readline(), end='')"
   ]
  },
  {
   "cell_type": "markdown",
   "metadata": {},
   "source": [
    "### Reading from a CSV File with Python"
   ]
  },
  {
   "cell_type": "code",
   "execution_count": 3,
   "metadata": {},
   "outputs": [],
   "source": [
    "import csv"
   ]
  },
  {
   "cell_type": "code",
   "execution_count": 4,
   "metadata": {},
   "outputs": [],
   "source": [
    "csv_reader = csv.reader(open(fn, 'r'))"
   ]
  },
  {
   "cell_type": "code",
   "execution_count": 5,
   "metadata": {},
   "outputs": [],
   "source": [
    "data = list(csv_reader)"
   ]
  },
  {
   "cell_type": "code",
   "execution_count": 6,
   "metadata": {},
   "outputs": [
    {
     "data": {
      "text/plain": [
       "[['Date', 'HIGH', 'CLOSE', 'LOW', 'OPEN', 'COUNT', 'VOLUME'],\n",
       " ['2020-04-01',\n",
       "  '248.72',\n",
       "  '240.91',\n",
       "  '239.13',\n",
       "  '246.5',\n",
       "  '460606.0',\n",
       "  '44054638.0'],\n",
       " ['2020-04-02',\n",
       "  '245.15',\n",
       "  '244.93',\n",
       "  '236.9',\n",
       "  '240.34',\n",
       "  '380294.0',\n",
       "  '41483493.0'],\n",
       " ['2020-04-03',\n",
       "  '245.7',\n",
       "  '241.41',\n",
       "  '238.9741',\n",
       "  '242.8',\n",
       "  '293699.0',\n",
       "  '32470017.0'],\n",
       " ['2020-04-06',\n",
       "  '263.11',\n",
       "  '262.47',\n",
       "  '249.38',\n",
       "  '250.9',\n",
       "  '486681.0',\n",
       "  '50455071.0']]"
      ]
     },
     "execution_count": 6,
     "metadata": {},
     "output_type": "execute_result"
    }
   ],
   "source": [
    "data[:5]"
   ]
  },
  {
   "cell_type": "code",
   "execution_count": 7,
   "metadata": {},
   "outputs": [],
   "source": [
    "csv_reader = csv.DictReader(open(fn, 'r'))"
   ]
  },
  {
   "cell_type": "code",
   "execution_count": 8,
   "metadata": {},
   "outputs": [],
   "source": [
    "data = list(csv_reader)"
   ]
  },
  {
   "cell_type": "code",
   "execution_count": 9,
   "metadata": {},
   "outputs": [
    {
     "data": {
      "text/plain": [
       "[{'Date': '2020-04-01',\n",
       "  'HIGH': '248.72',\n",
       "  'CLOSE': '240.91',\n",
       "  'LOW': '239.13',\n",
       "  'OPEN': '246.5',\n",
       "  'COUNT': '460606.0',\n",
       "  'VOLUME': '44054638.0'},\n",
       " {'Date': '2020-04-02',\n",
       "  'HIGH': '245.15',\n",
       "  'CLOSE': '244.93',\n",
       "  'LOW': '236.9',\n",
       "  'OPEN': '240.34',\n",
       "  'COUNT': '380294.0',\n",
       "  'VOLUME': '41483493.0'},\n",
       " {'Date': '2020-04-03',\n",
       "  'HIGH': '245.7',\n",
       "  'CLOSE': '241.41',\n",
       "  'LOW': '238.9741',\n",
       "  'OPEN': '242.8',\n",
       "  'COUNT': '293699.0',\n",
       "  'VOLUME': '32470017.0'}]"
      ]
     },
     "execution_count": 9,
     "metadata": {},
     "output_type": "execute_result"
    }
   ],
   "source": [
    "data[:3]"
   ]
  },
  {
   "cell_type": "code",
   "execution_count": 10,
   "metadata": {},
   "outputs": [
    {
     "data": {
      "text/plain": [
       "272.38619047619045"
      ]
     },
     "execution_count": 10,
     "metadata": {},
     "output_type": "execute_result"
    }
   ],
   "source": [
    "sum([float(l['CLOSE']) for l in data]) / len(data)"
   ]
  },
  {
   "cell_type": "markdown",
   "metadata": {},
   "source": [
    "### Reading from a CSV File with pandas"
   ]
  },
  {
   "cell_type": "code",
   "execution_count": 11,
   "metadata": {},
   "outputs": [],
   "source": [
    "import pandas as pd"
   ]
  },
  {
   "cell_type": "code",
   "execution_count": 12,
   "metadata": {},
   "outputs": [],
   "source": [
    "data = pd.read_csv(fn, index_col=0, parse_dates=True)"
   ]
  },
  {
   "cell_type": "code",
   "execution_count": 13,
   "metadata": {},
   "outputs": [
    {
     "name": "stdout",
     "output_type": "stream",
     "text": [
      "<class 'pandas.core.frame.DataFrame'>\n",
      "DatetimeIndex: 21 entries, 2020-04-01 to 2020-04-30\n",
      "Data columns (total 6 columns):\n",
      " #   Column  Non-Null Count  Dtype  \n",
      "---  ------  --------------  -----  \n",
      " 0   HIGH    21 non-null     float64\n",
      " 1   CLOSE   21 non-null     float64\n",
      " 2   LOW     21 non-null     float64\n",
      " 3   OPEN    21 non-null     float64\n",
      " 4   COUNT   21 non-null     float64\n",
      " 5   VOLUME  21 non-null     float64\n",
      "dtypes: float64(6)\n",
      "memory usage: 1.1 KB\n"
     ]
    }
   ],
   "source": [
    "data.info()"
   ]
  },
  {
   "cell_type": "code",
   "execution_count": 14,
   "metadata": {},
   "outputs": [
    {
     "data": {
      "text/html": [
       "<div>\n",
       "<style scoped>\n",
       "    .dataframe tbody tr th:only-of-type {\n",
       "        vertical-align: middle;\n",
       "    }\n",
       "\n",
       "    .dataframe tbody tr th {\n",
       "        vertical-align: top;\n",
       "    }\n",
       "\n",
       "    .dataframe thead th {\n",
       "        text-align: right;\n",
       "    }\n",
       "</style>\n",
       "<table border=\"1\" class=\"dataframe\">\n",
       "  <thead>\n",
       "    <tr style=\"text-align: right;\">\n",
       "      <th></th>\n",
       "      <th>HIGH</th>\n",
       "      <th>CLOSE</th>\n",
       "      <th>LOW</th>\n",
       "      <th>OPEN</th>\n",
       "      <th>COUNT</th>\n",
       "      <th>VOLUME</th>\n",
       "    </tr>\n",
       "    <tr>\n",
       "      <th>Date</th>\n",
       "      <th></th>\n",
       "      <th></th>\n",
       "      <th></th>\n",
       "      <th></th>\n",
       "      <th></th>\n",
       "      <th></th>\n",
       "    </tr>\n",
       "  </thead>\n",
       "  <tbody>\n",
       "    <tr>\n",
       "      <th>2020-04-24</th>\n",
       "      <td>283.01</td>\n",
       "      <td>282.97</td>\n",
       "      <td>277.00</td>\n",
       "      <td>277.20</td>\n",
       "      <td>306176.0</td>\n",
       "      <td>31627183.0</td>\n",
       "    </tr>\n",
       "    <tr>\n",
       "      <th>2020-04-27</th>\n",
       "      <td>284.54</td>\n",
       "      <td>283.17</td>\n",
       "      <td>279.95</td>\n",
       "      <td>281.80</td>\n",
       "      <td>300771.0</td>\n",
       "      <td>29271893.0</td>\n",
       "    </tr>\n",
       "    <tr>\n",
       "      <th>2020-04-28</th>\n",
       "      <td>285.83</td>\n",
       "      <td>278.58</td>\n",
       "      <td>278.20</td>\n",
       "      <td>285.08</td>\n",
       "      <td>285384.0</td>\n",
       "      <td>28001187.0</td>\n",
       "    </tr>\n",
       "    <tr>\n",
       "      <th>2020-04-29</th>\n",
       "      <td>289.67</td>\n",
       "      <td>287.73</td>\n",
       "      <td>283.89</td>\n",
       "      <td>284.73</td>\n",
       "      <td>324890.0</td>\n",
       "      <td>34320204.0</td>\n",
       "    </tr>\n",
       "    <tr>\n",
       "      <th>2020-04-30</th>\n",
       "      <td>294.53</td>\n",
       "      <td>293.80</td>\n",
       "      <td>288.35</td>\n",
       "      <td>289.96</td>\n",
       "      <td>471129.0</td>\n",
       "      <td>45765968.0</td>\n",
       "    </tr>\n",
       "  </tbody>\n",
       "</table>\n",
       "</div>"
      ],
      "text/plain": [
       "              HIGH   CLOSE     LOW    OPEN     COUNT      VOLUME\n",
       "Date                                                            \n",
       "2020-04-24  283.01  282.97  277.00  277.20  306176.0  31627183.0\n",
       "2020-04-27  284.54  283.17  279.95  281.80  300771.0  29271893.0\n",
       "2020-04-28  285.83  278.58  278.20  285.08  285384.0  28001187.0\n",
       "2020-04-29  289.67  287.73  283.89  284.73  324890.0  34320204.0\n",
       "2020-04-30  294.53  293.80  288.35  289.96  471129.0  45765968.0"
      ]
     },
     "execution_count": 14,
     "metadata": {},
     "output_type": "execute_result"
    }
   ],
   "source": [
    "data.tail()"
   ]
  },
  {
   "cell_type": "code",
   "execution_count": 15,
   "metadata": {},
   "outputs": [
    {
     "data": {
      "text/plain": [
       "272.38619047619056"
      ]
     },
     "execution_count": 15,
     "metadata": {},
     "output_type": "execute_result"
    }
   ],
   "source": [
    "data['CLOSE'].mean()"
   ]
  },
  {
   "cell_type": "markdown",
   "metadata": {},
   "source": [
    "### Exporting to Excel and JSON"
   ]
  },
  {
   "cell_type": "code",
   "execution_count": 18,
   "metadata": {},
   "outputs": [
    {
     "name": "stderr",
     "output_type": "stream",
     "text": [
      "/tmp/ipykernel_4007/1317618942.py:1: FutureWarning: As the xlwt package is no longer maintained, the xlwt engine will be removed in a future version of pandas. This is the only engine in pandas that supports writing in the xls format. Install openpyxl and write to an xlsx file instead. You can set the option io.excel.xls.writer to 'xlwt' to silence this warning. While this option is deprecated and will also raise a warning, it can be globally set and the warning suppressed.\n",
      "  data.to_excel('data/aapl.xls', 'AAPL')\n"
     ]
    }
   ],
   "source": [
    "data.to_excel('data/aapl.xls', 'AAPL')"
   ]
  },
  {
   "cell_type": "code",
   "execution_count": 19,
   "metadata": {},
   "outputs": [],
   "source": [
    "data.to_json('data/aapl.json')"
   ]
  },
  {
   "cell_type": "code",
   "execution_count": 21,
   "metadata": {},
   "outputs": [
    {
     "name": "stdout",
     "output_type": "stream",
     "text": [
      "total 12\n",
      "-rwxrwxrwx 1 1000 1000 3067 Jul 28 15:14 \u001b[0m\u001b[01;32maapl.json\u001b[0m*\n",
      "-rwxrwxrwx 1 1000 1000 5632 Jul 28 15:13 \u001b[01;32maapl.xls\u001b[0m*\n"
     ]
    }
   ],
   "source": [
    "ls -n data/"
   ]
  },
  {
   "cell_type": "code",
   "execution_count": null,
   "metadata": {},
   "outputs": [],
   "source": []
  }
 ],
 "metadata": {
  "interpreter": {
   "hash": "36b5f892143ad7b5b04ceb95101be3650539e4081b3aefca4d716387ecfc98e4"
  },
  "kernelspec": {
   "display_name": "Python 3.8.13 ('pyalgo')",
   "language": "python",
   "name": "python3"
  },
  "language_info": {
   "codemirror_mode": {
    "name": "ipython",
    "version": 3
   },
   "file_extension": ".py",
   "mimetype": "text/x-python",
   "name": "python",
   "nbconvert_exporter": "python",
   "pygments_lexer": "ipython3",
   "version": "3.8.13"
  },
  "orig_nbformat": 4
 },
 "nbformat": 4,
 "nbformat_minor": 2
}
